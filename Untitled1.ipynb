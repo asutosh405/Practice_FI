{
 "cells": [
  {
   "cell_type": "code",
   "execution_count": 115,
   "metadata": {
    "collapsed": true
   },
   "outputs": [],
   "source": [
    "import csv\n",
    "import sys"
   ]
  },
  {
   "cell_type": "code",
   "execution_count": 212,
   "metadata": {
    "collapsed": false
   },
   "outputs": [],
   "source": [
    "def clean_input_file(filename,sep=\",\",include_header=True, include_columns=None):\n",
    "    try:\n",
    "        f=open(filename, 'r')\n",
    "        f.read()\n",
    "        f.close()\n",
    "    except FileNotFoundError:\n",
    "        sys.exit(\"File Not Found\")\n",
    "        \n",
    "    data=[]\n",
    "    with open(filename,'r') as f:\n",
    "        reader=csv.reader(f,delimiter=sep)\n",
    "        rownum=0\n",
    "        colnum=0\n",
    "        ignoreLines=\"#\"\n",
    "        for row in reader:\n",
    "            #Store the header in a list\n",
    "            if rownum==0:\n",
    "                header=row\n",
    "                colnum=len(header)\n",
    "                if(include_header==True):\n",
    "                    if (include_columns!=None):\n",
    "                            header = list(header[i] for i in include_columns)\n",
    "                    data.append(header)\n",
    "\n",
    "            else:\n",
    "                if(row[0].startswith(ignoreLines)==True):\n",
    "                    continue\n",
    "                else:\n",
    "                    if(len(row)!=colnum):\n",
    "                        f1=open('Error123.txt','a')\n",
    "                        count=0\n",
    "                        for col in row:\n",
    "                            f1.write(col)\n",
    "                            count=count+1\n",
    "                            if(count<len(row)):\n",
    "                                f1.write(sep)\n",
    "                        \n",
    "                        f1.write(\"\\n\")\n",
    "                        f1.close()\n",
    "                    else:\n",
    "                        if (include_columns!=None):\n",
    "                            row = list(row[i] for i in include_columns)\n",
    "                        data.append(row)\n",
    "            rownum=rownum+1\n",
    "    return data"
   ]
  },
  {
   "cell_type": "code",
   "execution_count": 213,
   "metadata": {
    "collapsed": false
   },
   "outputs": [
    {
     "data": {
      "text/plain": [
       "[['Title', 'Release Date', 'Director'],\n",
       " [\"Monty Python's Life Of Brian\", '1979', 'Terry Jones']]"
      ]
     },
     "execution_count": 213,
     "metadata": {},
     "output_type": "execute_result"
    }
   ],
   "source": [
    "clean_input_file(filename=\"test.csv\",sep=\"-\",include_header=True, include_columns=[0,1,2])"
   ]
  },
  {
   "cell_type": "code",
   "execution_count": null,
   "metadata": {
    "collapsed": true
   },
   "outputs": [],
   "source": []
  },
  {
   "cell_type": "code",
   "execution_count": null,
   "metadata": {
    "collapsed": true
   },
   "outputs": [],
   "source": []
  }
 ],
 "metadata": {
  "kernelspec": {
   "display_name": "Python [conda root]",
   "language": "python",
   "name": "conda-root-py"
  },
  "language_info": {
   "codemirror_mode": {
    "name": "ipython",
    "version": 3
   },
   "file_extension": ".py",
   "mimetype": "text/x-python",
   "name": "python",
   "nbconvert_exporter": "python",
   "pygments_lexer": "ipython3",
   "version": "3.5.2"
  }
 },
 "nbformat": 4,
 "nbformat_minor": 1
}
